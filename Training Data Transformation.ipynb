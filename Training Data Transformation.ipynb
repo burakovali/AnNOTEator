{
 "cells": [
  {
   "cell_type": "code",
   "execution_count": 1,
   "id": "collect-necklace",
   "metadata": {},
   "outputs": [],
   "source": [
    "import pandas as pd\n",
    "import numpy as np\n",
    "import librosa\n",
    "from sklearn.model_selection import train_test_split"
   ]
  },
  {
   "cell_type": "code",
   "execution_count": 2,
   "id": "changed-receptor",
   "metadata": {
    "scrolled": false
   },
   "outputs": [
    {
     "data": {
      "text/html": [
       "<div>\n",
       "<style scoped>\n",
       "    .dataframe tbody tr th:only-of-type {\n",
       "        vertical-align: middle;\n",
       "    }\n",
       "\n",
       "    .dataframe tbody tr th {\n",
       "        vertical-align: top;\n",
       "    }\n",
       "\n",
       "    .dataframe thead th {\n",
       "        text-align: right;\n",
       "    }\n",
       "</style>\n",
       "<table border=\"1\" class=\"dataframe\">\n",
       "  <thead>\n",
       "    <tr style=\"text-align: right;\">\n",
       "      <th></th>\n",
       "      <th>start</th>\n",
       "      <th>end</th>\n",
       "      <th>track_id</th>\n",
       "      <th>audio_wav</th>\n",
       "      <th>label</th>\n",
       "    </tr>\n",
       "  </thead>\n",
       "  <tbody>\n",
       "    <tr>\n",
       "      <th>0</th>\n",
       "      <td>0.00</td>\n",
       "      <td>0.08</td>\n",
       "      <td>804</td>\n",
       "      <td>[0.040863037, 0.03353882, 0.052520752, 0.09002...</td>\n",
       "      <td>SD</td>\n",
       "    </tr>\n",
       "    <tr>\n",
       "      <th>1</th>\n",
       "      <td>0.02</td>\n",
       "      <td>0.12</td>\n",
       "      <td>804</td>\n",
       "      <td>[0.040863037, 0.03353882, 0.052520752, 0.09002...</td>\n",
       "      <td>SD</td>\n",
       "    </tr>\n",
       "    <tr>\n",
       "      <th>2</th>\n",
       "      <td>0.05</td>\n",
       "      <td>0.15</td>\n",
       "      <td>804</td>\n",
       "      <td>[0.040863037, 0.03353882, 0.052520752, 0.09002...</td>\n",
       "      <td>HH_close</td>\n",
       "    </tr>\n",
       "    <tr>\n",
       "      <th>3</th>\n",
       "      <td>0.26</td>\n",
       "      <td>0.36</td>\n",
       "      <td>804</td>\n",
       "      <td>[0.040863037, 0.03353882, 0.052520752, 0.09002...</td>\n",
       "      <td>KD</td>\n",
       "    </tr>\n",
       "    <tr>\n",
       "      <th>4</th>\n",
       "      <td>0.81</td>\n",
       "      <td>0.81</td>\n",
       "      <td>804</td>\n",
       "      <td>[0.040863037, 0.03353882, 0.052520752, 0.09002...</td>\n",
       "      <td>HT</td>\n",
       "    </tr>\n",
       "  </tbody>\n",
       "</table>\n",
       "</div>"
      ],
      "text/plain": [
       "   start   end  track_id                                          audio_wav  \\\n",
       "0   0.00  0.08       804  [0.040863037, 0.03353882, 0.052520752, 0.09002...   \n",
       "1   0.02  0.12       804  [0.040863037, 0.03353882, 0.052520752, 0.09002...   \n",
       "2   0.05  0.15       804  [0.040863037, 0.03353882, 0.052520752, 0.09002...   \n",
       "3   0.26  0.36       804  [0.040863037, 0.03353882, 0.052520752, 0.09002...   \n",
       "4   0.81  0.81       804  [0.040863037, 0.03353882, 0.052520752, 0.09002...   \n",
       "\n",
       "      label  \n",
       "0        SD  \n",
       "1        SD  \n",
       "2  HH_close  \n",
       "3        KD  \n",
       "4        HT  "
      ]
     },
     "execution_count": 2,
     "metadata": {},
     "output_type": "execute_result"
    }
   ],
   "source": [
    "# load the processed data from \"data_preparation\"\n",
    "\n",
    "# this notebook is the demonstration of how we transform the result df into\n",
    "# 4d numpy arrays which can be directly fit to Keras network for training\n",
    "\n",
    "# this is a sample that contains only 100 instances for this demonstration\n",
    "\n",
    "df = pd.read_pickle('gmd_sample100.pkl')\n",
    "df.head()"
   ]
  },
  {
   "cell_type": "code",
   "execution_count": 3,
   "id": "thermal-chair",
   "metadata": {},
   "outputs": [
    {
     "data": {
      "text/plain": [
       "(100, 10)"
      ]
     },
     "execution_count": 3,
     "metadata": {},
     "output_type": "execute_result"
    }
   ],
   "source": [
    "# label encoding            \n",
    "# some instances there are multiple positive labels\n",
    "\n",
    "drum_hits = ['SD','HH_close','KD','RC','FT','HT','HH_open','SD_xstick','MT','CC']\n",
    "\n",
    "for label in drum_hits:\n",
    "    df[label] = df.apply(lambda row: label in row['label'],axis=1)\n",
    "    df[label] = df[label].astype(int)\n",
    "\n",
    "y = df[drum_hits]\n",
    "y.shape"
   ]
  },
  {
   "cell_type": "code",
   "execution_count": 4,
   "id": "identified-ozone",
   "metadata": {},
   "outputs": [
    {
     "data": {
      "text/html": [
       "<div>\n",
       "<style scoped>\n",
       "    .dataframe tbody tr th:only-of-type {\n",
       "        vertical-align: middle;\n",
       "    }\n",
       "\n",
       "    .dataframe tbody tr th {\n",
       "        vertical-align: top;\n",
       "    }\n",
       "\n",
       "    .dataframe thead th {\n",
       "        text-align: right;\n",
       "    }\n",
       "</style>\n",
       "<table border=\"1\" class=\"dataframe\">\n",
       "  <thead>\n",
       "    <tr style=\"text-align: right;\">\n",
       "      <th></th>\n",
       "      <th>SD</th>\n",
       "      <th>HH_close</th>\n",
       "      <th>KD</th>\n",
       "      <th>RC</th>\n",
       "      <th>FT</th>\n",
       "      <th>HT</th>\n",
       "      <th>HH_open</th>\n",
       "      <th>SD_xstick</th>\n",
       "      <th>MT</th>\n",
       "      <th>CC</th>\n",
       "    </tr>\n",
       "  </thead>\n",
       "  <tbody>\n",
       "    <tr>\n",
       "      <th>0</th>\n",
       "      <td>1</td>\n",
       "      <td>0</td>\n",
       "      <td>0</td>\n",
       "      <td>0</td>\n",
       "      <td>0</td>\n",
       "      <td>0</td>\n",
       "      <td>0</td>\n",
       "      <td>0</td>\n",
       "      <td>0</td>\n",
       "      <td>0</td>\n",
       "    </tr>\n",
       "    <tr>\n",
       "      <th>1</th>\n",
       "      <td>1</td>\n",
       "      <td>0</td>\n",
       "      <td>0</td>\n",
       "      <td>0</td>\n",
       "      <td>0</td>\n",
       "      <td>0</td>\n",
       "      <td>0</td>\n",
       "      <td>0</td>\n",
       "      <td>0</td>\n",
       "      <td>0</td>\n",
       "    </tr>\n",
       "    <tr>\n",
       "      <th>2</th>\n",
       "      <td>0</td>\n",
       "      <td>1</td>\n",
       "      <td>0</td>\n",
       "      <td>0</td>\n",
       "      <td>0</td>\n",
       "      <td>0</td>\n",
       "      <td>0</td>\n",
       "      <td>0</td>\n",
       "      <td>0</td>\n",
       "      <td>0</td>\n",
       "    </tr>\n",
       "    <tr>\n",
       "      <th>3</th>\n",
       "      <td>0</td>\n",
       "      <td>0</td>\n",
       "      <td>1</td>\n",
       "      <td>0</td>\n",
       "      <td>0</td>\n",
       "      <td>0</td>\n",
       "      <td>0</td>\n",
       "      <td>0</td>\n",
       "      <td>0</td>\n",
       "      <td>0</td>\n",
       "    </tr>\n",
       "    <tr>\n",
       "      <th>4</th>\n",
       "      <td>0</td>\n",
       "      <td>0</td>\n",
       "      <td>0</td>\n",
       "      <td>0</td>\n",
       "      <td>0</td>\n",
       "      <td>1</td>\n",
       "      <td>0</td>\n",
       "      <td>0</td>\n",
       "      <td>0</td>\n",
       "      <td>0</td>\n",
       "    </tr>\n",
       "  </tbody>\n",
       "</table>\n",
       "</div>"
      ],
      "text/plain": [
       "   SD  HH_close  KD  RC  FT  HT  HH_open  SD_xstick  MT  CC\n",
       "0   1         0   0   0   0   0        0          0   0   0\n",
       "1   1         0   0   0   0   0        0          0   0   0\n",
       "2   0         1   0   0   0   0        0          0   0   0\n",
       "3   0         0   1   0   0   0        0          0   0   0\n",
       "4   0         0   0   0   0   1        0          0   0   0"
      ]
     },
     "execution_count": 4,
     "metadata": {},
     "output_type": "execute_result"
    }
   ],
   "source": [
    "y.head()"
   ]
  },
  {
   "cell_type": "code",
   "execution_count": 5,
   "id": "inner-louisville",
   "metadata": {},
   "outputs": [
    {
     "data": {
      "text/plain": [
       "(100, 1025, 8, 1)"
      ]
     },
     "execution_count": 5,
     "metadata": {},
     "output_type": "execute_result"
    }
   ],
   "source": [
    "# turn the autio_wav into the representation of short-time fourier transformation (stft)\n",
    "\n",
    "stft_train = []\n",
    "\n",
    "for i in range(df.shape[0]):\n",
    "    stft_train.append(np.abs(librosa.stft(df.audio_wav.iloc[i])))\n",
    "\n",
    "X1 = np.array(stft_train)\n",
    "X1 = X1.reshape(X1.shape[0],X1.shape[1],X1.shape[2],1)\n",
    "X1.shape\n",
    "    \n",
    "# this is in the format of \n",
    "# a 4d array of (number of instances, y axis shape, x axis shape, 1 channel)"
   ]
  },
  {
   "cell_type": "code",
   "execution_count": 6,
   "id": "cross-velvet",
   "metadata": {},
   "outputs": [],
   "source": [
    "# 100 stft representation of 100 instances, each has the shape (1025,8), has 1 channel\n",
    "\n",
    "# (normal image classification tasks the instances will have multiple channels)\n",
    "# the task we're doing is audio classification, which will only have 1 channel for all representation formats"
   ]
  },
  {
   "cell_type": "code",
   "execution_count": 7,
   "id": "through-partner",
   "metadata": {},
   "outputs": [
    {
     "data": {
      "text/plain": [
       "(100, 128, 8, 1)"
      ]
     },
     "execution_count": 7,
     "metadata": {},
     "output_type": "execute_result"
    }
   ],
   "source": [
    "# turn the autio_wav into the representation of Mel-Frequency Spectrogram \n",
    "# this usually takes the longest time to process\n",
    "\n",
    "mel_train = []\n",
    "\n",
    "for i in range(df.shape[0]):\n",
    "    mel_train.append(librosa.feature.melspectrogram(y=df.audio_wav.iloc[i], \n",
    "                                                    sr=44100, n_mels=128, fmax=8000))\n",
    "\n",
    "X2 = np.array(mel_train)\n",
    "X2 = X2.reshape(X2.shape[0],X2.shape[1],X2.shape[2],1)\n",
    "X2.shape"
   ]
  },
  {
   "cell_type": "code",
   "execution_count": 8,
   "id": "specialized-bracket",
   "metadata": {},
   "outputs": [
    {
     "data": {
      "text/plain": [
       "(100, 20, 8, 1)"
      ]
     },
     "execution_count": 8,
     "metadata": {},
     "output_type": "execute_result"
    }
   ],
   "source": [
    "# turn the autio_wav into the representation of Mel-Frequency Cepstral Coefficients\n",
    "\n",
    "mfcc_train = []\n",
    "\n",
    "for i in range(df.shape[0]):\n",
    "    mfcc_train.append(librosa.feature.mfcc(y=df.audio_wav.iloc[i], \n",
    "                                           sr=44100))       \n",
    "\n",
    "X3 = np.array(mfcc_train)\n",
    "X3 = X3.reshape(X3.shape[0],X3.shape[1],X3.shape[2],1)\n",
    "\n",
    "X3.shape"
   ]
  },
  {
   "cell_type": "markdown",
   "id": "scheduled-railway",
   "metadata": {},
   "source": [
    "### Save transformed data into numpy array\n",
    "\n",
    "#### These can be directly fit to an empty Keras Network for training"
   ]
  },
  {
   "cell_type": "code",
   "execution_count": 9,
   "id": "related-melbourne",
   "metadata": {},
   "outputs": [],
   "source": [
    "# can use np.save(filename, array) to save the ndarray data as npy files\n",
    "\n",
    "y = np.array(y)\n",
    "np.save('gmd_stft_sample100.npy',X1)\n",
    "np.save('gmd_label_sample100.npy',y)\n",
    "\n",
    "# use np.load(filename) to load whenever we need it"
   ]
  },
  {
   "cell_type": "code",
   "execution_count": 10,
   "id": "congressional-observation",
   "metadata": {},
   "outputs": [
    {
     "data": {
      "text/plain": [
       "((80, 1025, 8, 1), (20, 1025, 8, 1))"
      ]
     },
     "execution_count": 10,
     "metadata": {},
     "output_type": "execute_result"
    }
   ],
   "source": [
    "x_train, x_test, y_train, y_test = train_test_split(X1, y, test_size=0.2, random_state=42)\n",
    "x_train.shape, x_test.shape"
   ]
  },
  {
   "cell_type": "code",
   "execution_count": null,
   "id": "apart-variable",
   "metadata": {},
   "outputs": [],
   "source": [
    "###      don't run this cell      ###\n",
    "\n",
    "# after finishing designing a network structure in Keras, data can be directly fit into the model like this for training\n",
    "\n",
    "history = model.fit(x_train, y_train, \n",
    "                    validation_data=(x_test, y_test), \n",
    "                    validation_split=0.2, \n",
    "                    epochs=15, \n",
    "                    batch_size=64)"
   ]
  }
 ],
 "metadata": {
  "kernelspec": {
   "display_name": "Python 3",
   "language": "python",
   "name": "python3"
  },
  "language_info": {
   "codemirror_mode": {
    "name": "ipython",
    "version": 3
   },
   "file_extension": ".py",
   "mimetype": "text/x-python",
   "name": "python",
   "nbconvert_exporter": "python",
   "pygments_lexer": "ipython3",
   "version": "3.7.10"
  }
 },
 "nbformat": 4,
 "nbformat_minor": 5
}
