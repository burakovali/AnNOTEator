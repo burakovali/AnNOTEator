{
 "cells": [
  {
   "cell_type": "code",
   "execution_count": 1,
   "id": "1b1b00e1",
   "metadata": {},
   "outputs": [
    {
     "name": "stderr",
     "output_type": "stream",
     "text": [
      "C:\\Users\\hungs\\AppData\\Local\\Programs\\Python\\Python39\\lib\\site-packages\\requests\\__init__.py:102: RequestsDependencyWarning: urllib3 (1.26.9) or chardet (5.0.0)/charset_normalizer (2.0.12) doesn't match a supported version!\n",
      "  warnings.warn(\"urllib3 ({}) or chardet ({})/charset_normalizer ({}) doesn't match a supported \"\n"
     ]
    }
   ],
   "source": [
    "# Import the class from data_preparation.py\n",
    "from data_preparation import data_preparation"
   ]
  },
  {
   "cell_type": "code",
   "execution_count": 3,
   "id": "4ede0b70",
   "metadata": {},
   "outputs": [
    {
     "name": "stdout",
     "output_type": "stream",
     "text": [
      "Filtering out the midi/audio pair that has a duration difference > 1 second\n"
     ]
    },
    {
     "data": {
      "application/vnd.jupyter.widget-view+json": {
       "model_id": "083a654f6bba4617b7af45d49fa7e5a5",
       "version_major": 2,
       "version_minor": 0
      },
      "text/plain": [
       "  0%|          | 0/109 [00:00<?, ?it/s]"
      ]
     },
     "metadata": {},
     "output_type": "display_data"
    }
   ],
   "source": [
    "# Initiate the class\n",
    "# A few parameter need to be specified here\n",
    "# directory_path is the path to the root directory of the dataset. This class assume the use of GMD / E-GMD dataset\n",
    "# dataset is the type of data we use,  either \"gmd\" or \"egmd\" is acceptable for now\n",
    "# sample_ratio is the fraction of dataset want to be used in creating the training/test/eval dataset\n",
    "# diff_threshold is a parameter to ilter out the midi/audio pair that has the  duration difference > specified  value (in seconds) \n",
    "\n",
    "data_container=data_preparation(directory_path=, dataset='egmd', sample_ratio=0.01, diff_threshold=1)\n",
    "# For demo purpose, we will sample 1% of the dataset to create the training data. Since the dataset is too big and we can't upload it to Github,\n",
    "# please download the dataset to your computer and update the directory_path parameter"
   ]
  },
  {
   "cell_type": "code",
   "execution_count": 4,
   "id": "6717998b",
   "metadata": {},
   "outputs": [
    {
     "data": {
      "text/html": [
       "<div>\n",
       "<style scoped>\n",
       "    .dataframe tbody tr th:only-of-type {\n",
       "        vertical-align: middle;\n",
       "    }\n",
       "\n",
       "    .dataframe tbody tr th {\n",
       "        vertical-align: top;\n",
       "    }\n",
       "\n",
       "    .dataframe thead th {\n",
       "        text-align: right;\n",
       "    }\n",
       "</style>\n",
       "<table border=\"1\" class=\"dataframe\">\n",
       "  <thead>\n",
       "    <tr style=\"text-align: right;\">\n",
       "      <th></th>\n",
       "      <th>track_id</th>\n",
       "      <th>midi_filename</th>\n",
       "      <th>audio_filename</th>\n",
       "      <th>duration</th>\n",
       "      <th>wav_length</th>\n",
       "      <th>diff</th>\n",
       "    </tr>\n",
       "  </thead>\n",
       "  <tbody>\n",
       "    <tr>\n",
       "      <th>1</th>\n",
       "      <td>601</td>\n",
       "      <td>drummer3/session2/7_rock_100_beat_4-4.mid</td>\n",
       "      <td>drummer3/session2/7_rock_100_beat_4-4.wav</td>\n",
       "      <td>18.707500</td>\n",
       "      <td>19.200000</td>\n",
       "      <td>0.492500</td>\n",
       "    </tr>\n",
       "    <tr>\n",
       "      <th>2</th>\n",
       "      <td>1131</td>\n",
       "      <td>drummer9/session1/7_rock_100_beat_4-4.mid</td>\n",
       "      <td>drummer9/session1/7_rock_100_beat_4-4.wav</td>\n",
       "      <td>23.938750</td>\n",
       "      <td>24.000000</td>\n",
       "      <td>0.061250</td>\n",
       "    </tr>\n",
       "    <tr>\n",
       "      <th>5</th>\n",
       "      <td>828</td>\n",
       "      <td>drummer7/session2/66_rock_145_fill_4-4.mid</td>\n",
       "      <td>drummer7/session2/66_rock_145_fill_4-4.wav</td>\n",
       "      <td>3.254310</td>\n",
       "      <td>3.310340</td>\n",
       "      <td>0.056030</td>\n",
       "    </tr>\n",
       "    <tr>\n",
       "      <th>6</th>\n",
       "      <td>196</td>\n",
       "      <td>drummer1/session1/267_funk-purdieshuffle_130_f...</td>\n",
       "      <td>drummer1/session1/267_funk-purdieshuffle_130_f...</td>\n",
       "      <td>1.771152</td>\n",
       "      <td>1.788481</td>\n",
       "      <td>0.017329</td>\n",
       "    </tr>\n",
       "    <tr>\n",
       "      <th>7</th>\n",
       "      <td>638</td>\n",
       "      <td>drummer5/session1/5_latin-brazilian-samba_89_b...</td>\n",
       "      <td>drummer5/session1/5_latin-brazilian-samba_89_b...</td>\n",
       "      <td>272.175439</td>\n",
       "      <td>272.359569</td>\n",
       "      <td>0.184130</td>\n",
       "    </tr>\n",
       "    <tr>\n",
       "      <th>...</th>\n",
       "      <td>...</td>\n",
       "      <td>...</td>\n",
       "      <td>...</td>\n",
       "      <td>...</td>\n",
       "      <td>...</td>\n",
       "      <td>...</td>\n",
       "    </tr>\n",
       "    <tr>\n",
       "      <th>103</th>\n",
       "      <td>159</td>\n",
       "      <td>drummer1/session1/233_rock-halftime_140_fill_4...</td>\n",
       "      <td>drummer1/session1/233_rock-halftime_140_fill_4...</td>\n",
       "      <td>1.000892</td>\n",
       "      <td>1.714286</td>\n",
       "      <td>0.713394</td>\n",
       "    </tr>\n",
       "    <tr>\n",
       "      <th>104</th>\n",
       "      <td>282</td>\n",
       "      <td>drummer1/session2/102_funk-rock_92_fill_4-4.mid</td>\n",
       "      <td>drummer1/session2/102_funk-rock_92_fill_4-4.wav</td>\n",
       "      <td>2.339674</td>\n",
       "      <td>2.608685</td>\n",
       "      <td>0.269011</td>\n",
       "    </tr>\n",
       "    <tr>\n",
       "      <th>105</th>\n",
       "      <td>19</td>\n",
       "      <td>drummer1/session1/107_funk_95_fill_4-4.mid</td>\n",
       "      <td>drummer1/session1/107_funk_95_fill_4-4.wav</td>\n",
       "      <td>1.960523</td>\n",
       "      <td>2.526304</td>\n",
       "      <td>0.565781</td>\n",
       "    </tr>\n",
       "    <tr>\n",
       "      <th>106</th>\n",
       "      <td>588</td>\n",
       "      <td>drummer3/session2/39_rock_92_fill_4-4.mid</td>\n",
       "      <td>drummer3/session2/39_rock_92_fill_4-4.wav</td>\n",
       "      <td>2.550272</td>\n",
       "      <td>2.445669</td>\n",
       "      <td>0.104603</td>\n",
       "    </tr>\n",
       "    <tr>\n",
       "      <th>107</th>\n",
       "      <td>409</td>\n",
       "      <td>drummer1/session2/39_punk_128_fill_4-4.mid</td>\n",
       "      <td>drummer1/session2/39_punk_128_fill_4-4.wav</td>\n",
       "      <td>1.818359</td>\n",
       "      <td>1.875011</td>\n",
       "      <td>0.056652</td>\n",
       "    </tr>\n",
       "  </tbody>\n",
       "</table>\n",
       "<p>92 rows × 6 columns</p>\n",
       "</div>"
      ],
      "text/plain": [
       "     track_id                                      midi_filename  \\\n",
       "1         601          drummer3/session2/7_rock_100_beat_4-4.mid   \n",
       "2        1131          drummer9/session1/7_rock_100_beat_4-4.mid   \n",
       "5         828         drummer7/session2/66_rock_145_fill_4-4.mid   \n",
       "6         196  drummer1/session1/267_funk-purdieshuffle_130_f...   \n",
       "7         638  drummer5/session1/5_latin-brazilian-samba_89_b...   \n",
       "..        ...                                                ...   \n",
       "103       159  drummer1/session1/233_rock-halftime_140_fill_4...   \n",
       "104       282    drummer1/session2/102_funk-rock_92_fill_4-4.mid   \n",
       "105        19         drummer1/session1/107_funk_95_fill_4-4.mid   \n",
       "106       588          drummer3/session2/39_rock_92_fill_4-4.mid   \n",
       "107       409         drummer1/session2/39_punk_128_fill_4-4.mid   \n",
       "\n",
       "                                        audio_filename    duration  \\\n",
       "1            drummer3/session2/7_rock_100_beat_4-4.wav   18.707500   \n",
       "2            drummer9/session1/7_rock_100_beat_4-4.wav   23.938750   \n",
       "5           drummer7/session2/66_rock_145_fill_4-4.wav    3.254310   \n",
       "6    drummer1/session1/267_funk-purdieshuffle_130_f...    1.771152   \n",
       "7    drummer5/session1/5_latin-brazilian-samba_89_b...  272.175439   \n",
       "..                                                 ...         ...   \n",
       "103  drummer1/session1/233_rock-halftime_140_fill_4...    1.000892   \n",
       "104    drummer1/session2/102_funk-rock_92_fill_4-4.wav    2.339674   \n",
       "105         drummer1/session1/107_funk_95_fill_4-4.wav    1.960523   \n",
       "106          drummer3/session2/39_rock_92_fill_4-4.wav    2.550272   \n",
       "107         drummer1/session2/39_punk_128_fill_4-4.wav    1.818359   \n",
       "\n",
       "     wav_length      diff  \n",
       "1     19.200000  0.492500  \n",
       "2     24.000000  0.061250  \n",
       "5      3.310340  0.056030  \n",
       "6      1.788481  0.017329  \n",
       "7    272.359569  0.184130  \n",
       "..          ...       ...  \n",
       "103    1.714286  0.713394  \n",
       "104    2.608685  0.269011  \n",
       "105    2.526304  0.565781  \n",
       "106    2.445669  0.104603  \n",
       "107    1.875011  0.056652  \n",
       "\n",
       "[92 rows x 6 columns]"
      ]
     },
     "execution_count": 4,
     "metadata": {},
     "output_type": "execute_result"
    }
   ],
   "source": [
    "# after we initiate the class, we will get access to a few object immediately\n",
    "# first, the midi_wav_map, where contains the file name of the track pair of your sample\n",
    "data_container.midi_wav_map"
   ]
  },
  {
   "cell_type": "code",
   "execution_count": 5,
   "id": "2dbc7328",
   "metadata": {},
   "outputs": [
    {
     "data": {
      "text/plain": [
       "{36: 'KD',\n",
       " 38: 'SD',\n",
       " 40: 'SD',\n",
       " 37: 'SD',\n",
       " 48: 'TT',\n",
       " 50: 'TT',\n",
       " 45: 'TT',\n",
       " 47: 'TT',\n",
       " 43: 'TT',\n",
       " 58: 'TT',\n",
       " 46: 'HH',\n",
       " 26: 'HH',\n",
       " 42: 'HH',\n",
       " 22: 'HH',\n",
       " 44: 'HH',\n",
       " 49: 'CC',\n",
       " 57: 'CC',\n",
       " 55: 'CC',\n",
       " 52: 'CC',\n",
       " 51: 'RC',\n",
       " 59: 'RC',\n",
       " 53: 'RC',\n",
       " 39: 'CB',\n",
       " 54: 'CB',\n",
       " 56: 'CB'}"
      ]
     },
     "execution_count": 5,
     "metadata": {},
     "output_type": "execute_result"
    }
   ],
   "source": [
    "# Also the midi_note_map where contain the midi note mapping information\n",
    "data_container.midi_note_map"
   ]
  },
  {
   "cell_type": "code",
   "execution_count": 9,
   "id": "8639241d",
   "metadata": {},
   "outputs": [
    {
     "name": "stdout",
     "output_type": "stream",
     "text": [
      "Generating Dataset\n"
     ]
    },
    {
     "data": {
      "application/vnd.jupyter.widget-view+json": {
       "model_id": "0d4621fec3e045b48012651b01f9b970",
       "version_major": 2,
       "version_minor": 0
      },
      "text/plain": [
       "  0%|          | 0/92 [00:00<?, ?it/s]"
      ]
     },
     "metadata": {},
     "output_type": "display_data"
    },
    {
     "data": {
      "application/vnd.jupyter.widget-view+json": {
       "model_id": "939606becbff4ea694b84c8785487d97",
       "version_major": 2,
       "version_minor": 0
      },
      "text/plain": [
       "  0%|          | 0/22369 [00:00<?, ?it/s]"
      ]
     },
     "metadata": {},
     "output_type": "display_data"
    },
    {
     "name": "stdout",
     "output_type": "stream",
     "text": [
      "Done!\n"
     ]
    }
   ],
   "source": [
    "# To create the training data, just simply do this\n",
    "# A few parameters here need to aware of\n",
    "\n",
    "# pad_before control the padding added to the begining of each clip. Default setting is 0.02 seconds\n",
    "\n",
    "# pad_after control the padding added to the end of each clip. Default setting is 0.02 seconds\n",
    "\n",
    "# fix_length control the total length of each extracted clip. accpet value in seconds. If this is not None, the function will ignore pad_after parameter because fix_length is already adding padding to the eacd of each clip \n",
    "\n",
    "# batching control the batching implementation. Only set thei to True if you are processing >10% of egmd dataset. The egmd data have a size of ~110Gb, there is no way you can store it all in your company memory unless you have a very powerful machine  \n",
    "# By default, it will divide the dataset into 50 batches and created 50 pkl files. If batching is true, the function will also do the train test split automatically, so you will see a set of 50 training pkl files, 50 val pkl files.... created etc.\n",
    "\n",
    "# dir_path control the directory path of the store location of those output pkl files\n",
    "\n",
    "data_container.create_audio_set(pad_before=0.02, pad_after=0, fix_length=0.2, batching=False, dir_path='')"
   ]
  },
  {
   "cell_type": "code",
   "execution_count": 10,
   "id": "e991638d",
   "metadata": {},
   "outputs": [
    {
     "data": {
      "text/html": [
       "<div>\n",
       "<style scoped>\n",
       "    .dataframe tbody tr th:only-of-type {\n",
       "        vertical-align: middle;\n",
       "    }\n",
       "\n",
       "    .dataframe tbody tr th {\n",
       "        vertical-align: top;\n",
       "    }\n",
       "\n",
       "    .dataframe thead th {\n",
       "        text-align: right;\n",
       "    }\n",
       "</style>\n",
       "<table border=\"1\" class=\"dataframe\">\n",
       "  <thead>\n",
       "    <tr style=\"text-align: right;\">\n",
       "      <th></th>\n",
       "      <th>label</th>\n",
       "      <th>start</th>\n",
       "      <th>end</th>\n",
       "      <th>track_id</th>\n",
       "      <th>audio_wav</th>\n",
       "      <th>sampling_rate</th>\n",
       "    </tr>\n",
       "  </thead>\n",
       "  <tbody>\n",
       "    <tr>\n",
       "      <th>0</th>\n",
       "      <td>HH</td>\n",
       "      <td>0.02</td>\n",
       "      <td>0.12</td>\n",
       "      <td>601</td>\n",
       "      <td>[0.0, 0.0, 0.0, 0.0, 0.0, 0.0, 0.0, 0.0, 0.0, ...</td>\n",
       "      <td>44100</td>\n",
       "    </tr>\n",
       "    <tr>\n",
       "      <th>1</th>\n",
       "      <td>KD</td>\n",
       "      <td>0.03</td>\n",
       "      <td>0.13</td>\n",
       "      <td>601</td>\n",
       "      <td>[0.0, 0.0, 0.0, 0.0, 0.0, 0.0, 0.0, 0.0, 0.0, ...</td>\n",
       "      <td>44100</td>\n",
       "    </tr>\n",
       "    <tr>\n",
       "      <th>2</th>\n",
       "      <td>HH</td>\n",
       "      <td>0.32</td>\n",
       "      <td>0.42</td>\n",
       "      <td>601</td>\n",
       "      <td>[0.0029907227, 0.002960205, 0.0029144287, 0.00...</td>\n",
       "      <td>44100</td>\n",
       "    </tr>\n",
       "    <tr>\n",
       "      <th>3</th>\n",
       "      <td>KD</td>\n",
       "      <td>0.51</td>\n",
       "      <td>0.61</td>\n",
       "      <td>601</td>\n",
       "      <td>[-0.0007171631, -0.00076293945, -0.0007019043,...</td>\n",
       "      <td>44100</td>\n",
       "    </tr>\n",
       "    <tr>\n",
       "      <th>4</th>\n",
       "      <td>[SD, HH]</td>\n",
       "      <td>0.62</td>\n",
       "      <td>0.72</td>\n",
       "      <td>601</td>\n",
       "      <td>[-0.006149292, -0.006088257, -0.0060577393, -0...</td>\n",
       "      <td>44100</td>\n",
       "    </tr>\n",
       "    <tr>\n",
       "      <th>...</th>\n",
       "      <td>...</td>\n",
       "      <td>...</td>\n",
       "      <td>...</td>\n",
       "      <td>...</td>\n",
       "      <td>...</td>\n",
       "      <td>...</td>\n",
       "    </tr>\n",
       "    <tr>\n",
       "      <th>22364</th>\n",
       "      <td>SD</td>\n",
       "      <td>1.27</td>\n",
       "      <td>1.37</td>\n",
       "      <td>409</td>\n",
       "      <td>[-0.004562378, -0.0032806396, -0.0011291504, -...</td>\n",
       "      <td>44100</td>\n",
       "    </tr>\n",
       "    <tr>\n",
       "      <th>22365</th>\n",
       "      <td>TT</td>\n",
       "      <td>1.38</td>\n",
       "      <td>1.48</td>\n",
       "      <td>409</td>\n",
       "      <td>[0.012496948, 0.0119018555, 0.0047302246, -0.0...</td>\n",
       "      <td>44100</td>\n",
       "    </tr>\n",
       "    <tr>\n",
       "      <th>22366</th>\n",
       "      <td>TT</td>\n",
       "      <td>1.50</td>\n",
       "      <td>1.60</td>\n",
       "      <td>409</td>\n",
       "      <td>[0.03414917, 0.032928467, 0.032470703, 0.03157...</td>\n",
       "      <td>44100</td>\n",
       "    </tr>\n",
       "    <tr>\n",
       "      <th>22367</th>\n",
       "      <td>TT</td>\n",
       "      <td>1.61</td>\n",
       "      <td>1.71</td>\n",
       "      <td>409</td>\n",
       "      <td>[-0.002166748, -0.0016021729, -0.0022125244, -...</td>\n",
       "      <td>44100</td>\n",
       "    </tr>\n",
       "    <tr>\n",
       "      <th>22368</th>\n",
       "      <td>TT</td>\n",
       "      <td>1.72</td>\n",
       "      <td>1.82</td>\n",
       "      <td>409</td>\n",
       "      <td>[0.028625488, 0.027954102, 0.029800415, 0.0326...</td>\n",
       "      <td>44100</td>\n",
       "    </tr>\n",
       "  </tbody>\n",
       "</table>\n",
       "<p>22349 rows × 6 columns</p>\n",
       "</div>"
      ],
      "text/plain": [
       "          label  start   end  track_id  \\\n",
       "0            HH   0.02  0.12       601   \n",
       "1            KD   0.03  0.13       601   \n",
       "2            HH   0.32  0.42       601   \n",
       "3            KD   0.51  0.61       601   \n",
       "4      [SD, HH]   0.62  0.72       601   \n",
       "...         ...    ...   ...       ...   \n",
       "22364        SD   1.27  1.37       409   \n",
       "22365        TT   1.38  1.48       409   \n",
       "22366        TT   1.50  1.60       409   \n",
       "22367        TT   1.61  1.71       409   \n",
       "22368        TT   1.72  1.82       409   \n",
       "\n",
       "                                               audio_wav  sampling_rate  \n",
       "0      [0.0, 0.0, 0.0, 0.0, 0.0, 0.0, 0.0, 0.0, 0.0, ...          44100  \n",
       "1      [0.0, 0.0, 0.0, 0.0, 0.0, 0.0, 0.0, 0.0, 0.0, ...          44100  \n",
       "2      [0.0029907227, 0.002960205, 0.0029144287, 0.00...          44100  \n",
       "3      [-0.0007171631, -0.00076293945, -0.0007019043,...          44100  \n",
       "4      [-0.006149292, -0.006088257, -0.0060577393, -0...          44100  \n",
       "...                                                  ...            ...  \n",
       "22364  [-0.004562378, -0.0032806396, -0.0011291504, -...          44100  \n",
       "22365  [0.012496948, 0.0119018555, 0.0047302246, -0.0...          44100  \n",
       "22366  [0.03414917, 0.032928467, 0.032470703, 0.03157...          44100  \n",
       "22367  [-0.002166748, -0.0016021729, -0.0022125244, -...          44100  \n",
       "22368  [0.028625488, 0.027954102, 0.029800415, 0.0326...          44100  \n",
       "\n",
       "[22349 rows x 6 columns]"
      ]
     },
     "execution_count": 10,
     "metadata": {},
     "output_type": "execute_result"
    }
   ],
   "source": [
    "# If you are not doing batching, the full dataframe will be saved to the notes_collection attribute of the class\n",
    "# The output dataframe will contain the training input \"audio_wav\" in numpy array format and the label\n",
    "# It will also save a copy of the df (as .pkl_) in the root directory (if dir not specfied)\n",
    "data_container.notes_collection"
   ]
  },
  {
   "cell_type": "code",
   "execution_count": null,
   "id": "86bc179f",
   "metadata": {},
   "outputs": [],
   "source": [
    "#If you are processing the full dataset and implemented the batching setting, then you will need to read the pickles by yourselves and combining it for training phase"
   ]
  }
 ],
 "metadata": {
  "kernelspec": {
   "display_name": "Python 3.8.13 ('annoteators')",
   "language": "python",
   "name": "python3"
  },
  "language_info": {
   "codemirror_mode": {
    "name": "ipython",
    "version": 3
   },
   "file_extension": ".py",
   "mimetype": "text/x-python",
   "name": "python",
   "nbconvert_exporter": "python",
   "pygments_lexer": "ipython3",
   "version": "3.8.13"
  },
  "vscode": {
   "interpreter": {
    "hash": "ed55dcefe86505e2799da8893b18b8dadce446f510332ecd99ddce9f6d493e25"
   }
  }
 },
 "nbformat": 4,
 "nbformat_minor": 5
}
