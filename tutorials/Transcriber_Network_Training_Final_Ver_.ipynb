{
  "nbformat": 4,
  "nbformat_minor": 0,
  "metadata": {
    "colab": {
      "name": "Transcriber Network Training - Final Ver.",
      "provenance": [],
      "machine_shape": "hm",
      "background_execution": "on"
    },
    "kernelspec": {
      "name": "python3",
      "display_name": "Python 3"
    },
    "language_info": {
      "name": "python"
    },
    "gpuClass": "standard",
    "accelerator": "GPU"
  },
  "cells": [
    {
      "cell_type": "code",
      "source": [
        "import pandas as pd\n",
        "import numpy as np\n",
        "from sklearn.model_selection import train_test_split\n",
        "from sklearn.metrics import classification_report\n",
        "\n",
        "from tensorflow import keras\n",
        "from tensorflow.keras.models import Sequential\n",
        "from tensorflow.keras.layers import Conv2D, MaxPooling2D, Flatten, Dense, Dropout, Activation\n",
        "from tensorflow.keras.optimizers import Adam"
      ],
      "metadata": {
        "id": "ANrVO5sMXonq"
      },
      "execution_count": 1,
      "outputs": []
    },
    {
      "cell_type": "code",
      "source": [
        "# load the train data and labels \n",
        "# for detailed info about how the data is generated, see the \"Data_Transformation_Demo\" notebook\n",
        "\n",
        "X = np.load('egmd_mspc.npy')\n",
        "y = np.load('egmd_label.npy')\n",
        "x_train, x_test, y_train, y_test = train_test_split(X, y, test_size=0.2, random_state=697)\n",
        "\n",
        "print('Train-test split Done.')"
      ],
      "metadata": {
        "id": "66CCoxHQrTll",
        "colab": {
          "base_uri": "https://localhost:8080/"
        },
        "outputId": "111460b9-6200-411a-9c6f-5d59a4663ad1"
      },
      "execution_count": 2,
      "outputs": [
        {
          "output_type": "stream",
          "name": "stdout",
          "text": [
            "Train-test split Done.\n"
          ]
        }
      ]
    },
    {
      "cell_type": "code",
      "source": [
        "# Initialize a Keras CNN network\n",
        "\n",
        "model = Sequential()  \n",
        "\n",
        "model.add(Conv2D(32, (3,3), 1, input_shape = (X.shape[1],X.shape[2],1),  activation = 'relu', padding='same'))\n",
        "model.add(MaxPooling2D(pool_size=(2,2)))\n",
        "\n",
        "model.add(Conv2D(64, (3,3), 1, activation = 'relu', padding='same'))\n",
        "model.add(MaxPooling2D(pool_size = (2, 2)))\n",
        "\n",
        "model.add(Conv2D(64, (3,3), 1, activation = 'relu'))\n",
        "model.add(MaxPooling2D(pool_size = (2, 2)))\n",
        "\n",
        "model.add(Flatten())\n",
        "model.add(Dense(100, activation = 'relu'))\n",
        "model.add(Dropout(0.2))\n",
        "model.add(Dense(100, activation = 'relu'))\n",
        "model.add(Dropout(0.3))\n",
        "\n",
        "\n",
        "# Since we're doing a multi-label classification task, activation function set as sigmoid\n",
        "\n",
        "model.add(Dense(6, activation = 'sigmoid'))\n",
        "\n",
        "model.compile(optimizer = Adam(learning_rate=0.001), \n",
        "              loss = 'binary_crossentropy', \n",
        "              metrics = ['accuracy'])\n",
        "model.summary()"
      ],
      "metadata": {
        "colab": {
          "base_uri": "https://localhost:8080/"
        },
        "id": "quSw1WYNrTe-",
        "outputId": "e011d382-501e-4b48-825f-c03175a62f43"
      },
      "execution_count": 3,
      "outputs": [
        {
          "output_type": "stream",
          "name": "stdout",
          "text": [
            "Model: \"sequential\"\n",
            "_________________________________________________________________\n",
            " Layer (type)                Output Shape              Param #   \n",
            "=================================================================\n",
            " conv2d (Conv2D)             (None, 128, 18, 32)       320       \n",
            "                                                                 \n",
            " max_pooling2d (MaxPooling2D  (None, 64, 9, 32)        0         \n",
            " )                                                               \n",
            "                                                                 \n",
            " conv2d_1 (Conv2D)           (None, 64, 9, 64)         18496     \n",
            "                                                                 \n",
            " max_pooling2d_1 (MaxPooling  (None, 32, 4, 64)        0         \n",
            " 2D)                                                             \n",
            "                                                                 \n",
            " conv2d_2 (Conv2D)           (None, 30, 2, 64)         36928     \n",
            "                                                                 \n",
            " max_pooling2d_2 (MaxPooling  (None, 15, 1, 64)        0         \n",
            " 2D)                                                             \n",
            "                                                                 \n",
            " flatten (Flatten)           (None, 960)               0         \n",
            "                                                                 \n",
            " dense (Dense)               (None, 100)               96100     \n",
            "                                                                 \n",
            " dropout (Dropout)           (None, 100)               0         \n",
            "                                                                 \n",
            " dense_1 (Dense)             (None, 100)               10100     \n",
            "                                                                 \n",
            " dropout_1 (Dropout)         (None, 100)               0         \n",
            "                                                                 \n",
            " dense_2 (Dense)             (None, 6)                 606       \n",
            "                                                                 \n",
            "=================================================================\n",
            "Total params: 162,550\n",
            "Trainable params: 162,550\n",
            "Non-trainable params: 0\n",
            "_________________________________________________________________\n"
          ]
        }
      ]
    },
    {
      "cell_type": "code",
      "source": [
        "# add callback setting to model fitting process, to prevent overfitting\n",
        "\n",
        "callback = [\n",
        "    keras.callbacks.EarlyStopping(patience=5, monitor = 'val_accuracy'),\n",
        "]\n",
        "\n",
        "history = model.fit(x_train, y_train, validation_data=(x_test, y_test),\n",
        "           epochs=25, \n",
        "           batch_size=64,\n",
        "           callbacks=callback\n",
        "           )"
      ],
      "metadata": {
        "colab": {
          "base_uri": "https://localhost:8080/"
        },
        "id": "z_GG624IO5hc",
        "outputId": "81e0ae75-a034-45b5-9455-1f4172875fb7"
      },
      "execution_count": 4,
      "outputs": [
        {
          "output_type": "stream",
          "name": "stdout",
          "text": [
            "Epoch 1/25\n",
            "15353/15353 [==============================] - 59s 4ms/step - loss: 0.2202 - accuracy: 0.7403 - val_loss: 0.1531 - val_accuracy: 0.8177\n",
            "Epoch 2/25\n",
            "15353/15353 [==============================] - 56s 4ms/step - loss: 0.1556 - accuracy: 0.8215 - val_loss: 0.1394 - val_accuracy: 0.8328\n",
            "Epoch 3/25\n",
            "15353/15353 [==============================] - 56s 4ms/step - loss: 0.1442 - accuracy: 0.8337 - val_loss: 0.1334 - val_accuracy: 0.8322\n",
            "Epoch 4/25\n",
            "15353/15353 [==============================] - 56s 4ms/step - loss: 0.1377 - accuracy: 0.8410 - val_loss: 0.1237 - val_accuracy: 0.8516\n",
            "Epoch 5/25\n",
            "15353/15353 [==============================] - 57s 4ms/step - loss: 0.1328 - accuracy: 0.8451 - val_loss: 0.1211 - val_accuracy: 0.8515\n",
            "Epoch 6/25\n",
            "15353/15353 [==============================] - 55s 4ms/step - loss: 0.1296 - accuracy: 0.8498 - val_loss: 0.1186 - val_accuracy: 0.8507\n",
            "Epoch 7/25\n",
            "15353/15353 [==============================] - 56s 4ms/step - loss: 0.1265 - accuracy: 0.8541 - val_loss: 0.1208 - val_accuracy: 0.8531\n",
            "Epoch 8/25\n",
            "15353/15353 [==============================] - 56s 4ms/step - loss: 0.1252 - accuracy: 0.8534 - val_loss: 0.1192 - val_accuracy: 0.8548\n",
            "Epoch 9/25\n",
            "15353/15353 [==============================] - 56s 4ms/step - loss: 0.1237 - accuracy: 0.8566 - val_loss: 0.1244 - val_accuracy: 0.8555\n",
            "Epoch 10/25\n",
            "15353/15353 [==============================] - 56s 4ms/step - loss: 0.1217 - accuracy: 0.8575 - val_loss: 0.1202 - val_accuracy: 0.8570\n",
            "Epoch 11/25\n",
            "15353/15353 [==============================] - 56s 4ms/step - loss: 0.1198 - accuracy: 0.8600 - val_loss: 0.1191 - val_accuracy: 0.8530\n",
            "Epoch 12/25\n",
            "15353/15353 [==============================] - 56s 4ms/step - loss: 0.1190 - accuracy: 0.8615 - val_loss: 0.1118 - val_accuracy: 0.8661\n",
            "Epoch 13/25\n",
            "15353/15353 [==============================] - 57s 4ms/step - loss: 0.1182 - accuracy: 0.8611 - val_loss: 0.1184 - val_accuracy: 0.8576\n",
            "Epoch 14/25\n",
            "15353/15353 [==============================] - 56s 4ms/step - loss: 0.1171 - accuracy: 0.8620 - val_loss: 0.1135 - val_accuracy: 0.8612\n",
            "Epoch 15/25\n",
            "15353/15353 [==============================] - 56s 4ms/step - loss: 0.1164 - accuracy: 0.8644 - val_loss: 0.1144 - val_accuracy: 0.8690\n",
            "Epoch 16/25\n",
            "15353/15353 [==============================] - 57s 4ms/step - loss: 0.1150 - accuracy: 0.8656 - val_loss: 0.1122 - val_accuracy: 0.8667\n",
            "Epoch 17/25\n",
            "15353/15353 [==============================] - 57s 4ms/step - loss: 0.1147 - accuracy: 0.8673 - val_loss: 0.1142 - val_accuracy: 0.8629\n",
            "Epoch 18/25\n",
            "15353/15353 [==============================] - 57s 4ms/step - loss: 0.1140 - accuracy: 0.8668 - val_loss: 0.1136 - val_accuracy: 0.8665\n",
            "Epoch 19/25\n",
            "15353/15353 [==============================] - 57s 4ms/step - loss: 0.1134 - accuracy: 0.8679 - val_loss: 0.1132 - val_accuracy: 0.8648\n",
            "Epoch 20/25\n",
            "15353/15353 [==============================] - 56s 4ms/step - loss: 0.1131 - accuracy: 0.8690 - val_loss: 0.1153 - val_accuracy: 0.8676\n"
          ]
        }
      ]
    },
    {
      "cell_type": "code",
      "source": [
        "from matplotlib import pyplot as plt\n",
        "\n",
        "plt.plot(history.history['accuracy'])\n",
        "plt.plot(history.history['val_accuracy'])\n",
        "plt.title('Training - accuracy history')\n",
        "plt.ylabel('accuracy')\n",
        "plt.xlabel('epoch')\n",
        "plt.legend(['train', 'val'], loc='upper left')\n",
        "plt.show()"
      ],
      "metadata": {
        "colab": {
          "base_uri": "https://localhost:8080/",
          "height": 295
        },
        "id": "G1bsUtslGoaa",
        "outputId": "7d81f71a-757b-48cb-b317-bbc9287e8f2b"
      },
      "execution_count": 5,
      "outputs": [
        {
          "output_type": "display_data",
          "data": {
            "text/plain": [
              "<Figure size 432x288 with 1 Axes>"
            ],
            "image/png": "[encoded data removed]"
          },
          "metadata": {
            "needs_background": "light"
          }
        }
      ]
    },
    {
      "cell_type": "code",
      "source": [
        "plt.plot(history.history['loss'])\n",
        "plt.plot(history.history['val_loss'])\n",
        "plt.title('Training - loss history')\n",
        "plt.ylabel('loss')\n",
        "plt.xlabel('epoch')\n",
        "plt.legend(['train', 'val'], loc='upper left')\n",
        "plt.show()"
      ],
      "metadata": {
        "colab": {
          "base_uri": "https://localhost:8080/",
          "height": 295
        },
        "id": "xJH7fAQSGoVl",
        "outputId": "cc15c9a8-5daa-4faa-e78b-f4249c13d555"
      },
      "execution_count": 6,
      "outputs": [
        {
          "output_type": "display_data",
          "data": {
            "text/plain": [
              "<Figure size 432x288 with 1 Axes>"
            ],
            "image/png": "[encoded data removed]"
          },
          "metadata": {
            "needs_background": "light"
          }
        }
      ]
    },
    {
      "cell_type": "code",
      "source": [
        "# Network evaluation\n",
        "\n",
        "drum_hits = ['SD','HH','KD','RC','TT','CC']\n",
        "\n",
        "result = []\n",
        "pred_raw = model.predict(x_test)\n",
        "pred = np.round(pred_raw)\n",
        "\n",
        "for i in range(pred_raw.shape[0]):\n",
        "  prediction = pred[i]\n",
        "  if sum(prediction) == 0:\n",
        "    raw = pred_raw[i]\n",
        "    new = np.zeros(6)\n",
        "    ind = raw.argmax()\n",
        "    new[ind] = 1\n",
        "    result.append(new)\n",
        "  else:\n",
        "    result.append(prediction)\n",
        "\n",
        "print(classification_report(y_test, np.array(result), target_names=drum_hits))"
      ],
      "metadata": {
        "colab": {
          "base_uri": "https://localhost:8080/"
        },
        "id": "dpKU9ub-ydAF",
        "outputId": "e1616e44-56bf-4307-8947-19644c56c671"
      },
      "execution_count": 7,
      "outputs": [
        {
          "output_type": "stream",
          "name": "stdout",
          "text": [
            "              precision    recall  f1-score   support\n",
            "\n",
            "          SD       0.91      0.92      0.92    130068\n",
            "          HH       0.88      0.87      0.87    126300\n",
            "          KD       0.88      0.92      0.90     81756\n",
            "          RC       0.88      0.80      0.84     47364\n",
            "          TT       0.91      0.91      0.91     30556\n",
            "          CC       0.77      0.73      0.75      3952\n",
            "\n",
            "   micro avg       0.89      0.89      0.89    419996\n",
            "   macro avg       0.87      0.86      0.86    419996\n",
            "weighted avg       0.89      0.89      0.89    419996\n",
            " samples avg       0.91      0.90      0.90    419996\n",
            "\n"
          ]
        }
      ]
    },
    {
      "cell_type": "code",
      "source": [
        "# Finish."
      ],
      "metadata": {
        "id": "8t6Lxf9EwbM9"
      },
      "execution_count": null,
      "outputs": []
    }
  ]
}