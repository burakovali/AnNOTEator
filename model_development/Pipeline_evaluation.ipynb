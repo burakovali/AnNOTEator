{
 "cells": [
  {
   "cell_type": "markdown",
   "id": "14bb6b16",
   "metadata": {},
   "source": [
    "# Pipeline Evaluation"
   ]
  },
  {
   "cell_type": "markdown",
   "id": "890d9e26",
   "metadata": {},
   "source": [
    "We noticed that the output from the drum_exraction function has minor differences from time to time, which also impacted the dataframe output of the drum_to_frame function. It is impossible to provide manually created label for every possible outcome from the drum_to_frame function. Therefore, we decided to pre-process 2 songs, convert it into dataframe using the drum_to_frame function and manually transcribe it for evaluation.\n",
    "\n",
    "To avoid potential copyright issues, we also hide the song name and labeled it as song_1 and song_2"
   ]
  },
  {
   "cell_type": "code",
   "execution_count": 1,
   "id": "b23a910f",
   "metadata": {},
   "outputs": [],
   "source": [
    "# To begin evaluation, we first need to load the dataframe from pickles\n",
    "import pandas as pd\n",
    "df_song_1=pd.read_pickle('song_1.pkl')\n",
    "df_song_2=pd.read_pickle('song_2.pkl')"
   ]
  },
  {
   "cell_type": "code",
   "execution_count": 2,
   "id": "7343c616",
   "metadata": {},
   "outputs": [],
   "source": [
    "# Initiate the pre-trained model\n",
    "from tensorflow import keras\n",
    "model = keras.models.load_model('../inference/pretrained_models/annoteators/complete_network.h5')"
   ]
  },
  {
   "cell_type": "code",
   "execution_count": 30,
   "id": "76b6e265",
   "metadata": {},
   "outputs": [],
   "source": [
    "# Define a function here to convert the df.audio_clip into mel-frequency spectrogram, and make the prediction\n",
    "import librosa\n",
    "import numpy as np\n",
    "\n",
    "def evaluate(df, song_sampling_rate):\n",
    "    df=df.copy()\n",
    "    pred_x = []\n",
    "\n",
    "    for i in range(df.shape[0]):\n",
    "        pred_x.append(librosa.feature.melspectrogram(y=df.audio_clip.iloc[i], \n",
    "                                                 sr=song_sampling_rate, n_mels=128, fmax=8000))\n",
    "        \n",
    "    X = np.array(pred_x)\n",
    "    X = X.reshape(X.shape[0],X.shape[1],X.shape[2],1)\n",
    "    result = []\n",
    "    pred_raw=model.predict(X)\n",
    "    \n",
    "    pred = np.round(pred_raw)\n",
    "\n",
    "    for i in range(pred_raw.shape[0]):\n",
    "        prediction = pred[i]\n",
    "        if sum(prediction) == 0:\n",
    "            raw = pred_raw[i]\n",
    "            new = np.zeros(6)\n",
    "            ind = raw.argmax()\n",
    "            new[ind] = 1\n",
    "            result.append(new)\n",
    "        else:\n",
    "            result.append(prediction)\n",
    "\n",
    "    result = np.array(result)\n",
    "\n",
    "    drum_hits = ['SD','HH','KD','RC','TT','CC']\n",
    "    prediction = pd.DataFrame(result, columns = drum_hits)\n",
    "    \n",
    "    df.reset_index(inplace=True)\n",
    "    prediction.reset_index(inplace=True)\n",
    "\n",
    "    result = df.merge(prediction,left_on='index', right_on= 'index')\n",
    "    result.drop(columns=['index'],inplace=True)\n",
    "    \n",
    "    return result"
   ]
  },
  {
   "cell_type": "code",
   "execution_count": 40,
   "id": "333e03c8",
   "metadata": {},
   "outputs": [
    {
     "name": "stderr",
     "output_type": "stream",
     "text": [
      "C:\\Users\\Stanley\\AppData\\Local\\Temp\\ipykernel_26724\\3850834561.py:9: RuntimeWarning: invalid value encountered in longlong_scalars\n",
      "  precision =tp / (tp + fp)\n"
     ]
    }
   ],
   "source": [
    "#Then we will use the precision_recall_fscore_support function to evaluate the result\n",
    "from sklearn.metrics import precision_recall_fscore_support, confusion_matrix\n",
    "pred_df=evaluate(df_song_1, 44100)\n",
    "\n",
    "c_matrix=[]\n",
    "\n",
    "for pair in list(zip(['SD_T','HH_T','KD_T','RC_T','TT_T','CC_T'], ['SD','HH','KD','RC','TT','CC'])):\n",
    "    tn, fp, fn, tp = confusion_matrix(pred_df[pair[0]], pred_df[pair[1]]).ravel()\n",
    "    precision =tp / (tp + fp)\n",
    "    recall=tp / (tp + fn)\n",
    "    accuracy=(tp + tn) / (tn + fp + fn + tp)\n",
    "    f_1=(2*tp)/(2*tp+fp+fn)\n",
    "    c_matrix.append([pair[1], round(precision,2), round(recall, 2), round(accuracy,2), round(f_1,2)])"
   ]
  },
  {
   "cell_type": "code",
   "execution_count": 43,
   "id": "db8ffa94",
   "metadata": {},
   "outputs": [
    {
     "data": {
      "text/html": [
       "<div>\n",
       "<style scoped>\n",
       "    .dataframe tbody tr th:only-of-type {\n",
       "        vertical-align: middle;\n",
       "    }\n",
       "\n",
       "    .dataframe tbody tr th {\n",
       "        vertical-align: top;\n",
       "    }\n",
       "\n",
       "    .dataframe thead th {\n",
       "        text-align: right;\n",
       "    }\n",
       "</style>\n",
       "<table border=\"1\" class=\"dataframe\">\n",
       "  <thead>\n",
       "    <tr style=\"text-align: right;\">\n",
       "      <th></th>\n",
       "      <th>Drum type</th>\n",
       "      <th>precision</th>\n",
       "      <th>recall</th>\n",
       "      <th>accuracy</th>\n",
       "      <th>F1</th>\n",
       "    </tr>\n",
       "  </thead>\n",
       "  <tbody>\n",
       "    <tr>\n",
       "      <th>0</th>\n",
       "      <td>SD</td>\n",
       "      <td>0.50</td>\n",
       "      <td>0.49</td>\n",
       "      <td>0.86</td>\n",
       "      <td>0.50</td>\n",
       "    </tr>\n",
       "    <tr>\n",
       "      <th>1</th>\n",
       "      <td>HH</td>\n",
       "      <td>0.90</td>\n",
       "      <td>0.60</td>\n",
       "      <td>0.66</td>\n",
       "      <td>0.72</td>\n",
       "    </tr>\n",
       "    <tr>\n",
       "      <th>2</th>\n",
       "      <td>KD</td>\n",
       "      <td>0.94</td>\n",
       "      <td>0.74</td>\n",
       "      <td>0.88</td>\n",
       "      <td>0.83</td>\n",
       "    </tr>\n",
       "    <tr>\n",
       "      <th>3</th>\n",
       "      <td>RC</td>\n",
       "      <td>0.00</td>\n",
       "      <td>0.00</td>\n",
       "      <td>0.99</td>\n",
       "      <td>0.00</td>\n",
       "    </tr>\n",
       "    <tr>\n",
       "      <th>4</th>\n",
       "      <td>TT</td>\n",
       "      <td>0.55</td>\n",
       "      <td>0.60</td>\n",
       "      <td>0.92</td>\n",
       "      <td>0.57</td>\n",
       "    </tr>\n",
       "    <tr>\n",
       "      <th>5</th>\n",
       "      <td>CC</td>\n",
       "      <td>NaN</td>\n",
       "      <td>0.00</td>\n",
       "      <td>0.99</td>\n",
       "      <td>0.00</td>\n",
       "    </tr>\n",
       "  </tbody>\n",
       "</table>\n",
       "</div>"
      ],
      "text/plain": [
       "  Drum type  precision  recall  accuracy    F1\n",
       "0        SD       0.50    0.49      0.86  0.50\n",
       "1        HH       0.90    0.60      0.66  0.72\n",
       "2        KD       0.94    0.74      0.88  0.83\n",
       "3        RC       0.00    0.00      0.99  0.00\n",
       "4        TT       0.55    0.60      0.92  0.57\n",
       "5        CC        NaN    0.00      0.99  0.00"
      ]
     },
     "execution_count": 43,
     "metadata": {},
     "output_type": "execute_result"
    }
   ],
   "source": [
    "pd.DataFrame(c_matrix, columns=['Drum type', 'precision', 'recall', 'accuracy', 'F1'])"
   ]
  }
 ],
 "metadata": {
  "kernelspec": {
   "display_name": "Python 3.9.12 ('annoteators')",
   "language": "python",
   "name": "python3"
  },
  "language_info": {
   "codemirror_mode": {
    "name": "ipython",
    "version": 3
   },
   "file_extension": ".py",
   "mimetype": "text/x-python",
   "name": "python",
   "nbconvert_exporter": "python",
   "pygments_lexer": "ipython3",
   "version": "3.9.12"
  },
  "vscode": {
   "interpreter": {
    "hash": "2a3aec5d93e013113e0745b9743bfdf778cff92e1ca9a8a8c7c8cbf095dc8ebd"
   }
  }
 },
 "nbformat": 4,
 "nbformat_minor": 5
}
