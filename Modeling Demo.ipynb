{
 "cells": [
  {
   "cell_type": "code",
   "execution_count": 1,
   "id": "intense-pride",
   "metadata": {},
   "outputs": [],
   "source": [
    "import pandas as pd\n",
    "import numpy as np\n",
    "\n",
    "from sklearn.model_selection import train_test_split\n",
    "\n",
    "from tensorflow import keras\n",
    "from tensorflow.keras.models import Sequential\n",
    "from tensorflow.keras.layers import Conv2D, MaxPooling2D, Flatten, Dense, Dropout, Activation"
   ]
  },
  {
   "cell_type": "code",
   "execution_count": 2,
   "id": "illegal-novel",
   "metadata": {},
   "outputs": [
    {
     "data": {
      "text/plain": [
       "((10000, 1025, 11, 1), (10000, 128, 11, 1), (10000, 20, 11, 1), (10000, 3))"
      ]
     },
     "execution_count": 2,
     "metadata": {},
     "output_type": "execute_result"
    }
   ],
   "source": [
    "# this is just a demo     the data here are just 10,000 sample instances from the gmd set\n",
    "# these npy files are generated using the code of \"Training Data Transformation\" file\n",
    "\n",
    "X1 = np.load('gmd_stft_sample.npy')\n",
    "X2 = np.load('gmd_mel_sample.npy')\n",
    "X3 = np.load('gmd_mfcc_sample.npy')\n",
    "\n",
    "# the label here have only the most common 3 classes: \"D\", \"S\", \"H\"\n",
    "y = np.load('gmd_3label.npy')\n",
    "\n",
    "X1.shape, X2.shape, X3.shape, y.shape"
   ]
  },
  {
   "cell_type": "code",
   "execution_count": 3,
   "id": "peaceful-albuquerque",
   "metadata": {},
   "outputs": [
    {
     "data": {
      "text/plain": [
       "((8000, 1025, 11, 1), (2000, 1025, 11, 1))"
      ]
     },
     "execution_count": 3,
     "metadata": {},
     "output_type": "execute_result"
    }
   ],
   "source": [
    "x_train, x_test, y_train, y_test = train_test_split(X1, y, test_size=0.2, random_state=42)\n",
    "x_train.shape,x_test.shape"
   ]
  },
  {
   "cell_type": "markdown",
   "id": "interested-fitness",
   "metadata": {},
   "source": [
    "### Primary Choice: ConvNet"
   ]
  },
  {
   "cell_type": "code",
   "execution_count": 4,
   "id": "damaged-finland",
   "metadata": {
    "scrolled": false
   },
   "outputs": [
    {
     "name": "stdout",
     "output_type": "stream",
     "text": [
      "Model: \"sequential\"\n",
      "_________________________________________________________________\n",
      "Layer (type)                 Output Shape              Param #   \n",
      "=================================================================\n",
      "conv2d (Conv2D)              (None, 1023, 9, 10)       100       \n",
      "_________________________________________________________________\n",
      "max_pooling2d (MaxPooling2D) (None, 511, 4, 10)        0         \n",
      "_________________________________________________________________\n",
      "conv2d_1 (Conv2D)            (None, 499, 2, 20)        7820      \n",
      "_________________________________________________________________\n",
      "max_pooling2d_1 (MaxPooling2 (None, 249, 1, 20)        0         \n",
      "_________________________________________________________________\n",
      "flatten (Flatten)            (None, 4980)              0         \n",
      "_________________________________________________________________\n",
      "dense (Dense)                (None, 128)               637568    \n",
      "_________________________________________________________________\n",
      "dense_1 (Dense)              (None, 3)                 387       \n",
      "=================================================================\n",
      "Total params: 645,875\n",
      "Trainable params: 645,875\n",
      "Non-trainable params: 0\n",
      "_________________________________________________________________\n"
     ]
    }
   ],
   "source": [
    "model = Sequential()                   # initialize an empty network\n",
    "\n",
    "model.add(Conv2D(10, 3, 1, input_shape = (1025,11,1),  activation = 'relu'))          # Convolutional Layer\n",
    "     \n",
    "    # 10 (3,3) size kernels    moving at stride (1,1) over the entire input to convolve features\n",
    "    # leaky relu might be another choice of activation\n",
    "\n",
    "model.add(MaxPooling2D(pool_size=(2,2)))                                              # Pooling layer (dimension reduction)\n",
    "\n",
    "model.add(Conv2D(20, 3, 1, activation = 'relu'))\n",
    "model.add(MaxPooling2D(pool_size = (2, 2)))\n",
    "\n",
    "# model.add(Dropout(0.2))                                                             Dropout Layer\n",
    "\n",
    "model.add(Flatten())                                                                  # Flattens 2d feature maps to 1d \n",
    "model.add(Dense(128, activation = 'relu'))                                            # fully-connected layer\n",
    "# model.add(Dropout(0.2))\n",
    "\n",
    "model.add(Dense(3, activation = 'sigmoid'))                                           # output layer\n",
    "                                                                                      # multi-label activation : sigmoid\n",
    "\n",
    "model.compile(optimizer = 'adam', loss = 'categorical_crossentropy', metrics = ['categorical_accuracy'])\n",
    "model.summary()"
   ]
  },
  {
   "cell_type": "code",
   "execution_count": 5,
   "id": "herbal-queensland",
   "metadata": {},
   "outputs": [
    {
     "name": "stdout",
     "output_type": "stream",
     "text": [
      "Epoch 1/5\n",
      "200/200 [==============================] - 30s 150ms/step - loss: 0.8308 - categorical_accuracy: 0.6869 - val_loss: 0.7261 - val_categorical_accuracy: 0.6187\n",
      "Epoch 2/5\n",
      "200/200 [==============================] - 29s 144ms/step - loss: 0.6886 - categorical_accuracy: 0.6892 - val_loss: 0.6724 - val_categorical_accuracy: 0.6037\n",
      "Epoch 3/5\n",
      "200/200 [==============================] - 25s 123ms/step - loss: 0.6156 - categorical_accuracy: 0.6978 - val_loss: 0.6619 - val_categorical_accuracy: 0.7250\n",
      "Epoch 4/5\n",
      "200/200 [==============================] - 25s 125ms/step - loss: 0.5826 - categorical_accuracy: 0.7453 - val_loss: 0.6301 - val_categorical_accuracy: 0.7094\n",
      "Epoch 5/5\n",
      "200/200 [==============================] - 25s 123ms/step - loss: 0.5521 - categorical_accuracy: 0.7470 - val_loss: 0.6247 - val_categorical_accuracy: 0.7456\n"
     ]
    }
   ],
   "source": [
    "# this is just for demo so there's only 5 training interation here\n",
    "\n",
    "history = model.fit(x_train, y_train, \n",
    "                    validation_data=(x_test, y_test), \n",
    "                    validation_split=0.2, \n",
    "                    epochs=5, \n",
    "                    batch_size=32)"
   ]
  },
  {
   "cell_type": "markdown",
   "id": "martial-recording",
   "metadata": {},
   "source": [
    "### 1D Conv Network\n",
    "\n",
    "Just put in the raw 1-dimensional audio_wav as input to convolve. (Not a good choice)"
   ]
  },
  {
   "cell_type": "code",
   "execution_count": 6,
   "id": "extensive-dietary",
   "metadata": {},
   "outputs": [
    {
     "data": {
      "text/plain": [
       "((10000, 5513, 1), (10000, 3))"
      ]
     },
     "execution_count": 6,
     "metadata": {},
     "output_type": "execute_result"
    }
   ],
   "source": [
    "# just turn every audio_wav_resample row into 1d numpy array, and stacked all together as a 3d array of\n",
    "# (number of instances, length of audio_wav_resample, 1 channel)\n",
    "\n",
    "X4 = np.load('gmd_1d_wav.npy')\n",
    "X4.shape, y.shape"
   ]
  },
  {
   "cell_type": "code",
   "execution_count": 7,
   "id": "completed-history",
   "metadata": {},
   "outputs": [
    {
     "data": {
      "text/plain": [
       "((8000, 5513, 1), (8000, 3))"
      ]
     },
     "execution_count": 7,
     "metadata": {},
     "output_type": "execute_result"
    }
   ],
   "source": [
    "x_train, x_test, y_train, y_test = train_test_split(X4, y, test_size=0.2, random_state=42)\n",
    "\n",
    "x_train.shape, y_train.shape"
   ]
  },
  {
   "cell_type": "code",
   "execution_count": 8,
   "id": "intimate-exhibition",
   "metadata": {},
   "outputs": [],
   "source": [
    "from tensorflow.keras.layers import Conv1D, MaxPooling1D\n",
    "from tensorflow.keras.optimizers import Adam"
   ]
  },
  {
   "cell_type": "code",
   "execution_count": 9,
   "id": "productive-rebel",
   "metadata": {},
   "outputs": [
    {
     "name": "stdout",
     "output_type": "stream",
     "text": [
      "Model: \"sequential_1\"\n",
      "_________________________________________________________________\n",
      "Layer (type)                 Output Shape              Param #   \n",
      "=================================================================\n",
      "conv1d (Conv1D)              (None, 5511, 24)          96        \n",
      "_________________________________________________________________\n",
      "max_pooling1d (MaxPooling1D) (None, 2755, 24)          0         \n",
      "_________________________________________________________________\n",
      "conv1d_1 (Conv1D)            (None, 2753, 48)          3504      \n",
      "_________________________________________________________________\n",
      "max_pooling1d_1 (MaxPooling1 (None, 1376, 48)          0         \n",
      "_________________________________________________________________\n",
      "flatten_1 (Flatten)          (None, 66048)             0         \n",
      "_________________________________________________________________\n",
      "dense_2 (Dense)              (None, 64)                4227136   \n",
      "_________________________________________________________________\n",
      "dense_3 (Dense)              (None, 3)                 195       \n",
      "=================================================================\n",
      "Total params: 4,230,931\n",
      "Trainable params: 4,230,931\n",
      "Non-trainable params: 0\n",
      "_________________________________________________________________\n"
     ]
    }
   ],
   "source": [
    "model = Sequential()\n",
    "\n",
    "model.add(Conv1D(24, 3, activation='relu', input_shape=(5513, 1)))\n",
    "model.add(MaxPooling1D(2))\n",
    "\n",
    "model.add(Conv1D(48, 3, activation='relu'))\n",
    "model.add(MaxPooling1D(2))\n",
    "\n",
    "model.add(Flatten())\n",
    "\n",
    "model.add(Dense(64, activation='relu'))\n",
    "model.add(Dense(3, activation='sigmoid'))\n",
    "\n",
    "model.compile(Adam(lr=.01), loss='categorical_crossentropy', metrics=['categorical_accuracy'])\n",
    "\n",
    "model.summary()"
   ]
  },
  {
   "cell_type": "code",
   "execution_count": 10,
   "id": "turned-democrat",
   "metadata": {},
   "outputs": [
    {
     "name": "stdout",
     "output_type": "stream",
     "text": [
      "Epoch 1/5\n",
      "200/200 [==============================] - 27s 135ms/step - loss: 1.0540 - categorical_accuracy: 0.6455 - val_loss: 1.0135 - val_categorical_accuracy: 0.6831\n",
      "Epoch 2/5\n",
      "200/200 [==============================] - 26s 132ms/step - loss: 0.9588 - categorical_accuracy: 0.6770 - val_loss: 1.0454 - val_categorical_accuracy: 0.6338\n",
      "Epoch 3/5\n",
      "200/200 [==============================] - 26s 130ms/step - loss: 0.8992 - categorical_accuracy: 0.7070 - val_loss: 0.9869 - val_categorical_accuracy: 0.6931\n",
      "Epoch 4/5\n",
      "200/200 [==============================] - 26s 128ms/step - loss: 0.8823 - categorical_accuracy: 0.6944 - val_loss: 0.9375 - val_categorical_accuracy: 0.6900\n",
      "Epoch 5/5\n",
      "200/200 [==============================] - 26s 131ms/step - loss: 0.8517 - categorical_accuracy: 0.6545 - val_loss: 0.9199 - val_categorical_accuracy: 0.6956\n"
     ]
    }
   ],
   "source": [
    "history = model.fit(x_train, y_train, \n",
    "                    validation_data=(x_test, y_test), \n",
    "                    validation_split=0.2, \n",
    "                    epochs=5, \n",
    "                    batch_size=32)"
   ]
  },
  {
   "cell_type": "markdown",
   "id": "posted-jungle",
   "metadata": {},
   "source": [
    "### Simple Linear Model\n",
    "\n",
    "A network of multiple fully-connected layers, basically a large linear probability regression model. "
   ]
  },
  {
   "cell_type": "code",
   "execution_count": 12,
   "id": "particular-newcastle",
   "metadata": {},
   "outputs": [
    {
     "name": "stdout",
     "output_type": "stream",
     "text": [
      "Model: \"model\"\n",
      "_________________________________________________________________\n",
      "Layer (type)                 Output Shape              Param #   \n",
      "=================================================================\n",
      "input_1 (InputLayer)         [(None, 5513)]            0         \n",
      "_________________________________________________________________\n",
      "dense_1 (Dense)              (None, 256)               1411584   \n",
      "_________________________________________________________________\n",
      "dropout_1 (Dropout)          (None, 256)               0         \n",
      "_________________________________________________________________\n",
      "dense_2 (Dense)              (None, 64)                16448     \n",
      "_________________________________________________________________\n",
      "dropout_2 (Dropout)          (None, 64)                0         \n",
      "_________________________________________________________________\n",
      "ouput (Dense)                (None, 3)                 195       \n",
      "=================================================================\n",
      "Total params: 1,428,227\n",
      "Trainable params: 1,428,227\n",
      "Non-trainable params: 0\n",
      "_________________________________________________________________\n"
     ]
    }
   ],
   "source": [
    "def Linear_Network():\n",
    "    inputs = keras.layers.Input(shape=(5513))\n",
    "\n",
    "    x = keras.layers.Dense(256, activation=\"relu\", name=\"dense_1\")(inputs)\n",
    "    x = keras.layers.Dropout(0.2, name=\"dropout_1\")(x)\n",
    "\n",
    "    x = keras.layers.Dense(64, activation=\"relu\", name=\"dense_2\")(x)\n",
    "    x = keras.layers.Dropout(0.25, name=\"dropout_2\")(x)\n",
    "\n",
    "    outputs = keras.layers.Dense(3, activation=\"sigmoid\", name=\"ouput\")(\n",
    "        x\n",
    "    )\n",
    "\n",
    "    model = keras.Model(inputs=inputs, outputs=outputs)\n",
    "\n",
    "    model.compile(\n",
    "        optimizer=keras.optimizers.Adam(learning_rate=0.001),\n",
    "        loss=keras.losses.CategoricalCrossentropy(),\n",
    "        metrics=[\"categorical_accuracy\", keras.metrics.AUC(name=\"auc\")],\n",
    "    )\n",
    "\n",
    "    return model\n",
    "\n",
    "model = Linear_Network()\n",
    "model.summary()"
   ]
  },
  {
   "cell_type": "code",
   "execution_count": 13,
   "id": "satellite-senior",
   "metadata": {},
   "outputs": [
    {
     "name": "stdout",
     "output_type": "stream",
     "text": [
      "Epoch 1/5\n",
      "200/200 [==============================] - 2s 12ms/step - loss: 1.0329 - categorical_accuracy: 0.6359 - auc: 0.7111 - val_loss: 0.9773 - val_categorical_accuracy: 0.7200 - val_auc: 0.7548\n",
      "Epoch 2/5\n",
      "200/200 [==============================] - 2s 10ms/step - loss: 0.9184 - categorical_accuracy: 0.6583 - auc: 0.7834 - val_loss: 0.9212 - val_categorical_accuracy: 0.6950 - val_auc: 0.7751\n",
      "Epoch 3/5\n",
      "200/200 [==============================] - 2s 10ms/step - loss: 0.8555 - categorical_accuracy: 0.7014 - auc: 0.8045 - val_loss: 0.8933 - val_categorical_accuracy: 0.7231 - val_auc: 0.7909\n",
      "Epoch 4/5\n",
      "200/200 [==============================] - 2s 10ms/step - loss: 0.7894 - categorical_accuracy: 0.7262 - auc: 0.8263 - val_loss: 0.8705 - val_categorical_accuracy: 0.6963 - val_auc: 0.7971\n",
      "Epoch 5/5\n",
      "200/200 [==============================] - 2s 12ms/step - loss: 0.7345 - categorical_accuracy: 0.7192 - auc: 0.8427 - val_loss: 0.8951 - val_categorical_accuracy: 0.7100 - val_auc: 0.8017\n"
     ]
    }
   ],
   "source": [
    "# the input is the same as the above 1D conv network\n",
    "\n",
    "history = model.fit(x_train, y_train, \n",
    "                    validation_data=(x_test, y_test), \n",
    "                    validation_split=0.2, \n",
    "                    epochs=5, \n",
    "                    batch_size=32)"
   ]
  },
  {
   "cell_type": "code",
   "execution_count": null,
   "id": "smart-resolution",
   "metadata": {},
   "outputs": [],
   "source": []
  }
 ],
 "metadata": {
  "kernelspec": {
   "display_name": "Python 3",
   "language": "python",
   "name": "python3"
  },
  "language_info": {
   "codemirror_mode": {
    "name": "ipython",
    "version": 3
   },
   "file_extension": ".py",
   "mimetype": "text/x-python",
   "name": "python",
   "nbconvert_exporter": "python",
   "pygments_lexer": "ipython3",
   "version": "3.7.10"
  }
 },
 "nbformat": 4,
 "nbformat_minor": 5
}
