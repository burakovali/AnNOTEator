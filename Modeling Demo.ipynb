{
 "cells": [
  {
   "cell_type": "code",
   "execution_count": 1,
   "id": "intense-pride",
   "metadata": {},
   "outputs": [],
   "source": [
    "import pandas as pd\n",
    "import numpy as np\n",
    "\n",
    "from sklearn.model_selection import train_test_split\n",
    "\n",
    "from tensorflow import keras\n",
    "from tensorflow.keras.models import Sequential\n",
    "from tensorflow.keras.layers import Conv1D, MaxPooling1D, Conv2D, MaxPooling2D\n",
    "from tensorflow.keras.layers import Flatten, Dense, Dropout, Activation\n",
    "from tensorflow.keras.optimizers import Adam"
   ]
  },
  {
   "cell_type": "code",
   "execution_count": 2,
   "id": "illegal-novel",
   "metadata": {},
   "outputs": [
    {
     "data": {
      "text/plain": [
       "((10000, 1025, 8, 1), (10000, 10))"
      ]
     },
     "execution_count": 2,
     "metadata": {},
     "output_type": "execute_result"
    }
   ],
   "source": [
    "# this is just a demo     the data here are just 10,000 sample instances from the gmd set\n",
    "# these npy files are generated using the code of \"Training Data Transformation\" file\n",
    "\n",
    "X1 = np.load('gmd_stft_sample.npy')\n",
    "y = np.load('gmd_label_sample.npy')\n",
    "\n",
    "X1.shape, y.shape"
   ]
  },
  {
   "cell_type": "code",
   "execution_count": 3,
   "id": "peaceful-albuquerque",
   "metadata": {},
   "outputs": [
    {
     "data": {
      "text/plain": [
       "((8000, 1025, 8, 1), (2000, 1025, 8, 1))"
      ]
     },
     "execution_count": 3,
     "metadata": {},
     "output_type": "execute_result"
    }
   ],
   "source": [
    "x_train, x_test, y_train, y_test = train_test_split(X1, y, test_size=0.2, random_state=42)\n",
    "x_train.shape,x_test.shape"
   ]
  },
  {
   "cell_type": "markdown",
   "id": "interested-fitness",
   "metadata": {},
   "source": [
    "### Primary Choice: ConvNet"
   ]
  },
  {
   "cell_type": "code",
   "execution_count": 4,
   "id": "damaged-finland",
   "metadata": {
    "scrolled": false
   },
   "outputs": [
    {
     "name": "stdout",
     "output_type": "stream",
     "text": [
      "Model: \"sequential\"\n",
      "_________________________________________________________________\n",
      "Layer (type)                 Output Shape              Param #   \n",
      "=================================================================\n",
      "conv2d (Conv2D)              (None, 1025, 8, 10)       100       \n",
      "_________________________________________________________________\n",
      "max_pooling2d (MaxPooling2D) (None, 512, 4, 10)        0         \n",
      "_________________________________________________________________\n",
      "conv2d_1 (Conv2D)            (None, 510, 2, 20)        1820      \n",
      "_________________________________________________________________\n",
      "max_pooling2d_1 (MaxPooling2 (None, 255, 1, 20)        0         \n",
      "_________________________________________________________________\n",
      "flatten (Flatten)            (None, 5100)              0         \n",
      "_________________________________________________________________\n",
      "dense (Dense)                (None, 1024)              5223424   \n",
      "_________________________________________________________________\n",
      "dense_1 (Dense)              (None, 1024)              1049600   \n",
      "_________________________________________________________________\n",
      "dropout (Dropout)            (None, 1024)              0         \n",
      "_________________________________________________________________\n",
      "dense_2 (Dense)              (None, 10)                10250     \n",
      "=================================================================\n",
      "Total params: 6,285,194\n",
      "Trainable params: 6,285,194\n",
      "Non-trainable params: 0\n",
      "_________________________________________________________________\n"
     ]
    }
   ],
   "source": [
    "model = Sequential()                   # initialize an empty network\n",
    "\n",
    "model.add(Conv2D(10, 3, 1, input_shape = (1025,8,1),  activation = 'relu', padding='same'))          # Convolutional Layer\n",
    "\n",
    "    # 10 (3,3) size kernels    moving at stride (1,1) over the entire input to convolve features\n",
    "    # leaky relu might be another choice of activation\n",
    "\n",
    "model.add(MaxPooling2D(pool_size=(2,2)))                                              # Pooling layer (dimension reduction for feature maps)\n",
    "\n",
    "model.add(Conv2D(20, 3, 1, activation = 'relu'))\n",
    "model.add(MaxPooling2D(pool_size = (2, 2)))\n",
    "\n",
    "# model.add(Dropout(0.2))                                                             # Dropout Layer\n",
    "\n",
    "model.add(Flatten())                                                                  # Flattens 2d feature maps to 1d \n",
    "model.add(Dense(1024, activation = 'relu'))                                           # fully-connected layer\n",
    "model.add(Dense(1024, activation = 'relu')) \n",
    "model.add(Dropout(0.2))\n",
    "\n",
    "model.add(Dense(10, activation = 'sigmoid'))                                          # output layer : 10 nodes representing each class\n",
    "                                                                                      # multi-label activation : sigmoid\n",
    "    \n",
    "model.compile(optimizer = 'adam', loss = 'binary_crossentropy', metrics = ['accuracy'])\n",
    "model.summary()"
   ]
  },
  {
   "cell_type": "code",
   "execution_count": 5,
   "id": "herbal-queensland",
   "metadata": {},
   "outputs": [
    {
     "name": "stdout",
     "output_type": "stream",
     "text": [
      "Epoch 1/4\n",
      "100/100 [==============================] - 21s 209ms/step - loss: 0.3058 - accuracy: 0.3019 - val_loss: 0.2744 - val_accuracy: 0.3438\n",
      "Epoch 2/4\n",
      "100/100 [==============================] - 21s 207ms/step - loss: 0.2786 - accuracy: 0.3306 - val_loss: 0.2727 - val_accuracy: 0.3331\n",
      "Epoch 3/4\n",
      "100/100 [==============================] - 31s 308ms/step - loss: 0.2747 - accuracy: 0.3442 - val_loss: 0.2702 - val_accuracy: 0.3681\n",
      "Epoch 4/4\n",
      "100/100 [==============================] - 24s 238ms/step - loss: 0.2725 - accuracy: 0.3400 - val_loss: 0.2704 - val_accuracy: 0.3131\n"
     ]
    }
   ],
   "source": [
    "# this is just for demo so there's only 4 training interation here\n",
    "\n",
    "history = model.fit(x_train, y_train, \n",
    "                    validation_data=(x_test, y_test), \n",
    "                    validation_split=0.2, \n",
    "                    epochs=4, \n",
    "                    batch_size=64)"
   ]
  },
  {
   "cell_type": "markdown",
   "id": "martial-recording",
   "metadata": {},
   "source": [
    "### 1D Conv Network\n",
    "\n",
    "Just put in the raw 1-dimensional audio_wav as input to convolve. (Not a good choice)"
   ]
  },
  {
   "cell_type": "code",
   "execution_count": 6,
   "id": "extensive-dietary",
   "metadata": {},
   "outputs": [
    {
     "data": {
      "text/plain": [
       "((10000, 4000, 1), (10000, 10))"
      ]
     },
     "execution_count": 6,
     "metadata": {},
     "output_type": "execute_result"
    }
   ],
   "source": [
    "# just turn every audio_wav row into 1d numpy array, and stacked all together as a 3d array of\n",
    "# (number of instances, length of audio_wav, 1 channel)\n",
    "\n",
    "X2 = np.load('gmd_1d_sample.npy')\n",
    "X2.shape, y.shape"
   ]
  },
  {
   "cell_type": "code",
   "execution_count": 7,
   "id": "completed-history",
   "metadata": {},
   "outputs": [
    {
     "data": {
      "text/plain": [
       "((8000, 4000, 1), (8000, 10))"
      ]
     },
     "execution_count": 7,
     "metadata": {},
     "output_type": "execute_result"
    }
   ],
   "source": [
    "x_train, x_test, y_train, y_test = train_test_split(X2, y, test_size=0.2, random_state=42)\n",
    "\n",
    "x_train.shape, y_train.shape"
   ]
  },
  {
   "cell_type": "code",
   "execution_count": 8,
   "id": "productive-rebel",
   "metadata": {},
   "outputs": [
    {
     "name": "stdout",
     "output_type": "stream",
     "text": [
      "Model: \"sequential_1\"\n",
      "_________________________________________________________________\n",
      "Layer (type)                 Output Shape              Param #   \n",
      "=================================================================\n",
      "conv1d (Conv1D)              (None, 3998, 10)          40        \n",
      "_________________________________________________________________\n",
      "max_pooling1d (MaxPooling1D) (None, 1999, 10)          0         \n",
      "_________________________________________________________________\n",
      "conv1d_1 (Conv1D)            (None, 1997, 20)          620       \n",
      "_________________________________________________________________\n",
      "max_pooling1d_1 (MaxPooling1 (None, 998, 20)           0         \n",
      "_________________________________________________________________\n",
      "flatten_1 (Flatten)          (None, 19960)             0         \n",
      "_________________________________________________________________\n",
      "dense_3 (Dense)              (None, 1024)              20440064  \n",
      "_________________________________________________________________\n",
      "dense_4 (Dense)              (None, 1024)              1049600   \n",
      "_________________________________________________________________\n",
      "dense_5 (Dense)              (None, 10)                10250     \n",
      "=================================================================\n",
      "Total params: 21,500,574\n",
      "Trainable params: 21,500,574\n",
      "Non-trainable params: 0\n",
      "_________________________________________________________________\n"
     ]
    }
   ],
   "source": [
    "model = Sequential()\n",
    "\n",
    "model.add(Conv1D(10, 3, activation='relu', input_shape=(4000, 1)))\n",
    "model.add(MaxPooling1D(2))\n",
    "\n",
    "model.add(Conv1D(20, 3, activation='relu'))\n",
    "model.add(MaxPooling1D(2))\n",
    "\n",
    "model.add(Flatten())\n",
    "\n",
    "model.add(Dense(1024, activation='relu'))\n",
    "model.add(Dense(1024, activation='relu'))\n",
    "model.add(Dense(10, activation='sigmoid'))\n",
    "\n",
    "model.compile(Adam(lr=.01), loss='binary_crossentropy', metrics=['accuracy'])\n",
    "\n",
    "model.summary()"
   ]
  },
  {
   "cell_type": "code",
   "execution_count": 9,
   "id": "turned-democrat",
   "metadata": {},
   "outputs": [
    {
     "name": "stdout",
     "output_type": "stream",
     "text": [
      "Epoch 1/5\n",
      "200/200 [==============================] - 55s 275ms/step - loss: 0.3369 - accuracy: 0.2475 - val_loss: 0.3060 - val_accuracy: 0.2656\n",
      "Epoch 2/5\n",
      "200/200 [==============================] - 55s 275ms/step - loss: 0.3099 - accuracy: 0.2620 - val_loss: 0.3059 - val_accuracy: 0.2669\n",
      "Epoch 3/5\n",
      "200/200 [==============================] - 56s 278ms/step - loss: 0.3091 - accuracy: 0.2552 - val_loss: 0.3055 - val_accuracy: 0.2669\n",
      "Epoch 4/5\n",
      "200/200 [==============================] - 55s 275ms/step - loss: 0.3091 - accuracy: 0.2467 - val_loss: 0.3044 - val_accuracy: 0.2669\n",
      "Epoch 5/5\n",
      "200/200 [==============================] - 55s 275ms/step - loss: 0.3087 - accuracy: 0.2561 - val_loss: 0.3041 - val_accuracy: 0.2669\n"
     ]
    }
   ],
   "source": [
    "history = model.fit(x_train, y_train, \n",
    "                    validation_data=(x_test, y_test), \n",
    "                    validation_split=0.2, \n",
    "                    epochs=5, \n",
    "                    batch_size=32)"
   ]
  },
  {
   "cell_type": "markdown",
   "id": "posted-jungle",
   "metadata": {},
   "source": [
    "### Simple Linear Model\n",
    "\n",
    "A network of multiple fully-connected layers, basically a super large linear probability regression model. "
   ]
  },
  {
   "cell_type": "code",
   "execution_count": 10,
   "id": "particular-newcastle",
   "metadata": {},
   "outputs": [
    {
     "name": "stdout",
     "output_type": "stream",
     "text": [
      "Model: \"model\"\n",
      "_________________________________________________________________\n",
      "Layer (type)                 Output Shape              Param #   \n",
      "=================================================================\n",
      "input_1 (InputLayer)         [(None, 4000)]            0         \n",
      "_________________________________________________________________\n",
      "dense_1 (Dense)              (None, 1024)              4097024   \n",
      "_________________________________________________________________\n",
      "dropout_1 (Dropout)          (None, 1024)              0         \n",
      "_________________________________________________________________\n",
      "dense_2 (Dense)              (None, 1024)              1049600   \n",
      "_________________________________________________________________\n",
      "dropout_2 (Dropout)          (None, 1024)              0         \n",
      "_________________________________________________________________\n",
      "ouput (Dense)                (None, 10)                10250     \n",
      "=================================================================\n",
      "Total params: 5,156,874\n",
      "Trainable params: 5,156,874\n",
      "Non-trainable params: 0\n",
      "_________________________________________________________________\n"
     ]
    }
   ],
   "source": [
    "def Linear_Network():\n",
    "    inputs = keras.layers.Input(shape=(4000))\n",
    "\n",
    "    x = keras.layers.Dense(1024, activation=\"relu\", name=\"dense_1\")(inputs)\n",
    "    x = keras.layers.Dropout(0.2, name=\"dropout_1\")(x)\n",
    "\n",
    "    x = keras.layers.Dense(1024, activation=\"relu\", name=\"dense_2\")(x)\n",
    "    x = keras.layers.Dropout(0.3, name=\"dropout_2\")(x)\n",
    "\n",
    "    outputs = keras.layers.Dense(10, activation=\"sigmoid\", name=\"ouput\")(x)\n",
    "\n",
    "    model = keras.Model(inputs=inputs, outputs=outputs)\n",
    "    \n",
    "    model.compile(\n",
    "        Adam(learning_rate=.001), \n",
    "        loss='binary_crossentropy', \n",
    "        metrics=['accuracy']\n",
    "    )\n",
    "\n",
    "    return model\n",
    "\n",
    "model = Linear_Network()\n",
    "model.summary()"
   ]
  },
  {
   "cell_type": "code",
   "execution_count": 11,
   "id": "satellite-senior",
   "metadata": {},
   "outputs": [
    {
     "name": "stdout",
     "output_type": "stream",
     "text": [
      "Epoch 1/5\n",
      "200/200 [==============================] - 6s 29ms/step - loss: 0.3210 - accuracy: 0.2392 - val_loss: 0.3050 - val_accuracy: 0.2669\n",
      "Epoch 2/5\n",
      "200/200 [==============================] - 5s 26ms/step - loss: 0.3135 - accuracy: 0.2606 - val_loss: 0.3082 - val_accuracy: 0.2669\n",
      "Epoch 3/5\n",
      "200/200 [==============================] - 5s 26ms/step - loss: 0.3130 - accuracy: 0.2433 - val_loss: 0.3052 - val_accuracy: 0.2656\n",
      "Epoch 4/5\n",
      "200/200 [==============================] - 5s 27ms/step - loss: 0.3125 - accuracy: 0.2567 - val_loss: 0.3047 - val_accuracy: 0.2656\n",
      "Epoch 5/5\n",
      "200/200 [==============================] - 5s 27ms/step - loss: 0.3116 - accuracy: 0.2561 - val_loss: 0.3058 - val_accuracy: 0.2669\n"
     ]
    }
   ],
   "source": [
    "# the input is the same as the above 1D conv network\n",
    "\n",
    "history = model.fit(x_train, y_train, \n",
    "                    validation_data=(x_test, y_test), \n",
    "                    validation_split=0.2, \n",
    "                    epochs=5, \n",
    "                    batch_size=32)"
   ]
  },
  {
   "cell_type": "code",
   "execution_count": null,
   "id": "smart-resolution",
   "metadata": {},
   "outputs": [],
   "source": []
  }
 ],
 "metadata": {
  "kernelspec": {
   "display_name": "Python 3",
   "language": "python",
   "name": "python3"
  },
  "language_info": {
   "codemirror_mode": {
    "name": "ipython",
    "version": 3
   },
   "file_extension": ".py",
   "mimetype": "text/x-python",
   "name": "python",
   "nbconvert_exporter": "python",
   "pygments_lexer": "ipython3",
   "version": "3.7.10"
  }
 },
 "nbformat": 4,
 "nbformat_minor": 5
}
